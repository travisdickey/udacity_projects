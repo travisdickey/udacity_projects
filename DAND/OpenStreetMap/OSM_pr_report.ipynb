{
 "cells": [
  {
   "cell_type": "markdown",
   "metadata": {},
   "source": [
    "# Wrangle OpenStreetMap Data"
   ]
  },
  {
   "cell_type": "markdown",
   "metadata": {},
   "source": [
    "## Map Area\n",
    "\n",
    "Savannah, GA - Hilton Head, SC, United States\n",
    "\n",
    "[https://mapzen.com/data/metro-extracts/your-extracts/4f8284861e2a](https://mapzen.com/data/metro-extracts/your-extracts/4f8284861e2a)\n",
    "\n",
    "I am from a small town just outside of Savannah and not far from Hilton Head. I was interested to see what the OSM data would reveal about this somewhat quaint and quirky coastal region. The map linked above includes all of Chatham County, where Savannah is located, and major portions of neighbroing counties Effingham, Bryan, Jasper, and Beaufort. Hilton Head, a popular tourist destination, is a part of Beaufort County, which is also well-known as the home of Parris Island, where Marines go for boot camp."
   ]
  },
  {
   "cell_type": "markdown",
   "metadata": {},
   "source": [
    "## Problems Encountered\n",
    "- Street names often abbreviated.\n",
    "- A few zip codes contained double entries separated by a semi-colon, others separated by a colon, and some contained a state abbreviation (GA or SC).\n",
    "- Lack of Standard Data:\n",
    "    - Large portion of tags created by Tiger GPS and GNIS, which take quite different formats from the standard entries. For example, in this dataset, 13,569 zip codes were entered by Tiger vs. 514 by standard entry.\n",
    "    - Incomplete data. For example, a query for types of 'cuisine' revealed just four seafood restaurants. This is a coastal region. There are most definitely more than four seafood restaurants.\n",
    "    - Very few standard entries reference the county in which a tag occurs, making comparisons by county quite difficult. For example, Effingham County, where I grew up, contains 47 distinct entries, 46 of those were imported from GNIS."
   ]
  },
  {
   "cell_type": "markdown",
   "metadata": {},
   "source": [
    "## Street Names"
   ]
  },
  {
   "cell_type": "markdown",
   "metadata": {},
   "source": [
    "To fix street names, I lifted the `update_name` function from the `audit.py` file in the case study, modified it slightly, and created a new file called `update_street.py`, then added keys to the mapping dictionary for all the entries in the \"expected\" list (Ct, Blvd, Pl, etc.).\n",
    "```python\n",
    "def update_name(name, mapping):\n",
    "    match = street_type_re.search(name)\n",
    "    if match:\n",
    "        street_type = match.group()\n",
    "        if street_type not in expected:\n",
    "            if street_type in mapping.keys():\n",
    "                abbrev = match.group()\n",
    "                l = len(abbrev)\n",
    "                name = name[:-l] + mapping[abbrev]\n",
    "    return name\n",
    "```"
   ]
  },
  {
   "cell_type": "markdown",
   "metadata": {},
   "source": [
    "## Incorrect Zip Codes"
   ]
  },
  {
   "cell_type": "markdown",
   "metadata": {},
   "source": [
    "The zip codes in my datafile were generally clean, although I did have a few entries that with two zip codes separated by a semi-colon, some with hyphenated zip codes, and a few with a state abbreviation at the beginning, such as '(GA)  31341'. Adding the following code to my `shape_element` function fixed the problem.\n",
    "```python\n",
    "elif a['key'] == 'postcode' or a['key'].find('zip') != -1:\n",
    "    z_re = re.compile(r'\\d{5}')\n",
    "    z = tag.attrib['v']\n",
    "    zipcode = z_re.findall(z)[0]\n",
    "    a['value'] = zipcode #correct zip codes such as [(GA)   31326, 31326-3123, 31326; 31409]\n",
    "```"
   ]
  },
  {
   "cell_type": "markdown",
   "metadata": {},
   "source": [
    "## Lack of Standard Data"
   ]
  },
  {
   "cell_type": "markdown",
   "metadata": {},
   "source": [
    "### Tiger GPS & GNIS"
   ]
  },
  {
   "cell_type": "markdown",
   "metadata": {},
   "source": [
    "#### Tiger\n",
    "There are a number of differences between the Tiger GPS format in the SQL tables and the standard format. While I really wanted to correct the discrepancies, a search of the Udacity forums, the web, and GitHub suggested that the data would be better left as-is.\n",
    "\n",
    "The following shows the format of Tiger GPS data:\n",
    "```sql\n",
    "SELECT *, COUNT(*) as count\n",
    "   FROM ways_tags\n",
    "   WHERE type='tiger'\n",
    "   GROUP BY key\n",
    "   ORDER BY count\n",
    "   DESC LIMIT 5;\n",
    "\n",
    "357833033|cfcc|A41|tiger|114\n",
    "357833033|county|Beaufort, SC|tiger|113\n",
    "357833033|reviewed|no|tiger|106\n",
    "357833033|name_base|Mead|tiger|89\n",
    "357833033|name_type|Ln|tiger|83\n",
    "357833033|zip_left|29926|tiger|50\n",
    "```\n",
    "Thus, for addresses, rather than having the `type` listed as `addr` and `key` equal to `street`, the Tiger data takes `tiger` as its type and for streets uses the keys `name_base` and `name_type`, separating the street name and street type in two rows."
   ]
  },
  {
   "cell_type": "markdown",
   "metadata": {},
   "source": [
    "#### GNIS\n",
    "\n",
    "An example of the GNIS format:\n",
    "```sql\n",
    "491501125|feature_id|1694582|gnis|1660\n",
    "488367267|created|07/13/1980|gnis|1208\n",
    "488367267|county_id|013|gnis|1129\n",
    "488367267|state_id|45|gnis|1129\n",
    "646947567|id|1253484|gnis|322\n",
    "```\n",
    "Again, different key names, values, etc., from the standard format, which makes meaningful queries quite challenging."
   ]
  },
  {
   "cell_type": "markdown",
   "metadata": {},
   "source": [
    "### Incomplete Data"
   ]
  },
  {
   "cell_type": "markdown",
   "metadata": {},
   "source": [
    "#### Where's the Seafood?\n",
    "The query below reveals large gaps in the data:\n",
    "```sql\n",
    "SELECT nodes_tags.value, COUNT(*) as num\n",
    "    FROM nodes_tags\n",
    "        JOIN (SELECT DISTINCT(id) FROM nodes_tags WHERE value='restaurant') i\n",
    "        ON nodes_tags.id=i.id\n",
    "    WHERE nodes_tags.key='cuisine'\n",
    "    GROUP BY nodes_tags.value\n",
    "    ORDER BY num DESC LIMIT 10;\n",
    "    \n",
    "american|5\n",
    "mexican|5\n",
    "pizza|5\n",
    "burger|4\n",
    "seafood|4\n",
    "french|2\n",
    "japanese|2\n",
    "regional|2\n",
    "Potato_Dishes|1\n",
    "asian|1\n",
    "```\n",
    "There are most definitely more than four seafood restaurants in this coastal area."
   ]
  },
  {
   "cell_type": "markdown",
   "metadata": {},
   "source": [
    "#### Dubious Results\n",
    "The lack of a standard format leaves query results that are quite dubious. The query for cities:\n",
    "```sql\n",
    "SELECT tags.value, COUNT(*) as count\n",
    "    FROM (SELECT * FROM nodes_tags UNION ALL\n",
    "          SELECT * FROM ways_tags) tags\n",
    "    WHERE tags.key LIKE '%city'\n",
    "    GROUP BY tags.value\n",
    "    ORDER BY count DESC;\n",
    "```\n",
    "Yields the following, edited for clarity:\n",
    "```sql\n",
    "Savannah|893\n",
    "Pooler|168\n",
    "Bluffton|139\n",
    "Hilton Head Island|88\n",
    "Beaufort|25\n",
    "Richmond Hill|6\n",
    "Tybee Island|5\n",
    "Bloomingdale|3\n",
    "Hardeeville|2\n",
    "Port Royal|2\n",
    "Ridgeland|2\n",
    "Black Creek|1\n",
    "Daufuskie Island|1\n",
    "Ellabell|1\n",
    "Meldrim|1\n",
    "Okatie|1\n",
    "Pembroke|1\n",
    "Rincon|1\n",
    "Springfield|1\n",
    "```\n",
    "Rincon, Richmond Hill, Bloomingdale, Okatie, Hardeeville are all towns with around 10,000 people. The number of entries displayed is quite disproportional to that of Savannah, which has a population of about 147,000."
   ]
  },
  {
   "cell_type": "markdown",
   "metadata": {},
   "source": [
    "#### Lack of County Reference\n",
    "I had hoped to compare data across the five counties. However, only the GNIS and Tiger data reference the county for each tag. The standard data does not, aside from a single tag for the county itself. Therefore, queries to compare one county to another lack sufficient data to be meaningful. Below are the total entries by county. Comparing this to the \"City\" search above, with 893 tags for Savannah alone, highlights the lack of county data.  \n",
    "```sql\n",
    " SELECT tags.value, COUNT(*) AS count \n",
    " FROM (SELECT * FROM nodes_tags \n",
    "     UNION ALL SELECT * FROM ways_tags) tags \n",
    " WHERE tags.value='Chatham' \n",
    "     OR tags.value='Effingham' \n",
    "     OR tags.value='Bryan' \n",
    "     OR tags.value='Jasper' \n",
    "     OR tags.value='Beaufort'\n",
    " GROUP BY tags.value \n",
    " ORDER BY count DESC;\n",
    " \n",
    "Chatham|288\n",
    "Beaufort|217\n",
    "Jasper|83\n",
    "Effingham|47\n",
    "Bryan|26\n",
    "```\n",
    "\n",
    "An example of the data from one county, suburban Effingham, with 46 out of 47 entries from GNIS:\n",
    "```sql\n",
    "SELECT *, COUNT(*) AS count \n",
    "  FROM (SELECT * FROM nodes_tags UNION ALL SELECT * FROM ways_tags) tags \n",
    "  WHERE tags.value='Effingham' \n",
    "  GROUP BY tags.key \n",
    "  ORDER BY count desc;\n",
    "  \n",
    "154396154|gnis:County|Effingham|regular|25\n",
    "192417778|county_name|Effingham|gnis|21\n",
    "316949458|name|Effingham|regular|1\n",
    "```\n",
    "Not only do the GNIS entries make up most of the data, but the GNIS entries themselves are inconsistent, with the key 'gnis:County' in some cases and 'county_name' in others."
   ]
  },
  {
   "cell_type": "markdown",
   "metadata": {},
   "source": [
    "## Data Overview and Additional Thoughts"
   ]
  },
  {
   "cell_type": "markdown",
   "metadata": {},
   "source": [
    "### File Sizes\n",
    "```\n",
    "nodes.csv .......................  58.8 MB\n",
    "nodes_tags.csv ..................   1.1 MB\n",
    "osm.db ..........................  83.8 MB\n",
    "savannah_hiltonhead.osm ......... 148.7 MB\n",
    "ways.csv ........................   3.6 MB\n",
    "ways_nodes.csv ..................  20.9 MB\n",
    "ways_tags.csv ...................   9.8 MB\n",
    "```"
   ]
  },
  {
   "cell_type": "markdown",
   "metadata": {},
   "source": [
    "### Number of Nodes"
   ]
  },
  {
   "cell_type": "markdown",
   "metadata": {},
   "source": [
    "```sql\n",
    "SELECT COUNT(*) FROM nodes;\n",
    "\n",
    "737115\n",
    "```"
   ]
  },
  {
   "cell_type": "markdown",
   "metadata": {},
   "source": [
    "### Number of Ways\n",
    "```sql\n",
    "SELECT COUNT(*) FROM ways;\n",
    "\n",
    "63054\n",
    "```"
   ]
  },
  {
   "cell_type": "markdown",
   "metadata": {},
   "source": [
    "### Number of Unique Users\n",
    "```sql\n",
    "SELECT COUNT(DISTINCT(e.uid))          \n",
    "FROM (SELECT uid FROM nodes UNION ALL SELECT uid FROM ways) e;\n",
    "\n",
    "498\n",
    "```"
   ]
  },
  {
   "cell_type": "markdown",
   "metadata": {},
   "source": [
    "### Ten Most Popular Amenities\n",
    "```sql\n",
    "SELECT tags.value, COUNT(*) AS count \n",
    "  FROM (SELECT * FROM nodes_tags \n",
    "      UNION ALL SELECT * FROM ways_tags) tags \n",
    "  WHERE tags.key='amenity' \n",
    "  GROUP BY tags.value \n",
    "  ORDER BY count DESC LIMIT 10;\n",
    "   \n",
    "place_of_worship|521\n",
    "parking|325\n",
    "school|250\n",
    "restaurant|153\n",
    "grave_yard|125\n",
    "fast_food|65\n",
    "fuel|54\n",
    "bench|44\n",
    "fire_station|38\n",
    "fountain|35\n",
    "```"
   ]
  },
  {
   "cell_type": "markdown",
   "metadata": {},
   "source": [
    "### Religion\n",
    "Again, data is incomplete. Below is not a fair representation of religion in this area.\n",
    "```sql\n",
    "SELECT nodes_tags.value, COUNT(*) as num\n",
    "    FROM nodes_tags\n",
    "        JOIN (SELECT DISTINCT(id) FROM nodes_tags WHERE value='place_of_worship') i\n",
    "        ON nodes_tags.id=i.id\n",
    "    WHERE nodes_tags.key='religion'\n",
    "    GROUP BY nodes_tags.value\n",
    "    ORDER BY num DESC;\n",
    "    \n",
    "christian|466\n",
    "jewish|3\n",
    "```\n",
    "I am aware of places of worship from different faiths that do not show up in this data."
   ]
  },
  {
   "cell_type": "markdown",
   "metadata": {},
   "source": [
    "### Sport\n",
    "```sql\n",
    "SELECT tags.value, COUNT(*) AS count \n",
    "  FROM (SELECT * FROM nodes_tags \n",
    "          UNION ALL \n",
    "        SELECT * FROM ways_tags) tags \n",
    "  WHERE tags.key='sport' \n",
    "  GROUP BY tags.value \n",
    "  ORDER BY count DESC;\n",
    "\n",
    "tennis|192\n",
    "baseball|86\n",
    "golf|36\n",
    "soccer|28\n",
    "swimming|7\n",
    "basketball|6\n",
    "american_football|3\n",
    "multi|3\n",
    "athletics|1\n",
    "bocce|1\n",
    "fitness|1\n",
    "football|1\n",
    "motor|1\n",
    "running|1\n",
    "shuffleboard|1\n",
    "```"
   ]
  },
  {
   "cell_type": "markdown",
   "metadata": {},
   "source": [
    "## Conclusion\n",
    "The OpenStreetMap is a fascinating project. It was a pleasure pouring over the data for the region where I have lived and worked the majority of my life. While my biggest takeaway from the investigation is that much work needs to be done to standardize the data for meaningful queries, my interest is piqued, and it makes me want to contribute to the OpenStreetMap for my community, because the data is woefully inadequate, which is understandable because it is still a rather rural area. "
   ]
  },
  {
   "cell_type": "markdown",
   "metadata": {},
   "source": [
    "## References\n",
    "- Many of the SQL queries and ideas for basic layout of this report are courtesy of the Udacity [sample project](https://gist.github.com/carlward/54ec1c91b62a5f911c42#file-sample_project-md) created by Carl Ward.\n",
    "- Much of the code for auditing, cleaning, and writing data to SQL was derived from the Udacity OSM Case Study (as was suggested to do).\n",
    "- The file `to_sql_nodes_tags.py` was taken from a Udacity [forum](https://discussions.udacity.com/c/nd002-data-wrangling) post by Udacity moderator Myles Callan; this code was then adapted to create the other `.py` files for converting CSVs to SQL.\n",
    "- Many visits to [stackoverflow](https://stackoverflow.com/) for a variety of questions; site was particularly helpful with calling functions and files from one `.py` file into another."
   ]
  }
 ],
 "metadata": {
  "kernelspec": {
   "display_name": "Python 2",
   "language": "python",
   "name": "python2"
  },
  "language_info": {
   "codemirror_mode": {
    "name": "ipython",
    "version": 2
   },
   "file_extension": ".py",
   "mimetype": "text/x-python",
   "name": "python",
   "nbconvert_exporter": "python",
   "pygments_lexer": "ipython2",
   "version": "2.7.13"
  }
 },
 "nbformat": 4,
 "nbformat_minor": 2
}
