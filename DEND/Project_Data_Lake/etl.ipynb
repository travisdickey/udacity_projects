{
 "cells": [
  {
   "cell_type": "code",
   "execution_count": 3,
   "metadata": {},
   "outputs": [],
   "source": [
    "import configparser\n",
    "from datetime import datetime\n",
    "import os\n",
    "from pyspark.sql import SparkSession\n",
    "from pyspark.sql.functions import udf, col\n",
    "from pyspark.sql.functions import year, month, dayofmonth, hour, weekofyear, date_format"
   ]
  },
  {
   "cell_type": "code",
   "execution_count": 4,
   "metadata": {},
   "outputs": [],
   "source": [
    "config = configparser.ConfigParser()\n",
    "config.read('dl.cfg')\n",
    "\n",
    "os.environ['AWS_ACCESS_KEY_ID']=config['AWS']['AWS_ACCESS_KEY_ID']\n",
    "os.environ['AWS_SECRET_ACCESS_KEY']=config['AWS']['AWS_SECRET_ACCESS_KEY']"
   ]
  },
  {
   "cell_type": "code",
   "execution_count": 5,
   "metadata": {},
   "outputs": [],
   "source": [
    "def create_spark_session():\n",
    "    spark = SparkSession \\\n",
    "        .builder \\\n",
    "        .config(\"spark.jars.packages\", \"org.apache.hadoop:hadoop-aws:2.7.0\") \\\n",
    "        .getOrCreate()\n",
    "    return spark\n",
    "\n",
    "spark = create_spark_session()\n",
    "input_data = 's3a://dend/'\n",
    "# input_data = \"s3a://udacity-dend/\"\n",
    "output_data = \"s3a://dend-bucket-twd/analytics/\"\n",
    "# input_data = 'data/'\n",
    "# output_data = 'data/tmp/'"
   ]
  },
  {
   "cell_type": "code",
   "execution_count": 6,
   "metadata": {},
   "outputs": [
    {
     "data": {
      "text/plain": [
       "'s3a://dend/song_data/*/*/*/*.json'"
      ]
     },
     "execution_count": 6,
     "metadata": {},
     "output_type": "execute_result"
    }
   ],
   "source": [
    "# get filepath to song data file\n",
    "song_data = input_data+'song_data/*/*/*/*.json' \n",
    "\n",
    "song_data"
   ]
  },
  {
   "cell_type": "code",
   "execution_count": 7,
   "metadata": {},
   "outputs": [],
   "source": [
    "# read song data file\n",
    "df = spark.read.json(song_data)"
   ]
  },
  {
   "cell_type": "code",
   "execution_count": 7,
   "metadata": {},
   "outputs": [],
   "source": [
    "# extract columns to create songs table\n",
    "songs_table = df.select(\"song_id\", \"title\", \"artist_id\", \"year\", \"duration\")"
   ]
  },
  {
   "cell_type": "code",
   "execution_count": 10,
   "metadata": {},
   "outputs": [],
   "source": [
    "# write songs table to parquet files partitioned by year and artist\n",
    "songs_table.write.partitionBy('year', 'artist_id').parquet(output_data+'songs', 'overwrite')"
   ]
  },
  {
   "cell_type": "code",
   "execution_count": 11,
   "metadata": {},
   "outputs": [],
   "source": [
    "# extract columns to create artists table\n",
    "artists_table = df.select(\"artist_id\", \"artist_name\", \"artist_location\", \"artist_latitude\", \"artist_longitude\")"
   ]
  },
  {
   "cell_type": "code",
   "execution_count": 12,
   "metadata": {},
   "outputs": [],
   "source": [
    "# write artists table to parquet files\n",
    "artists_table.write.parquet(output_data+'artists', 'overwrite')"
   ]
  },
  {
   "cell_type": "markdown",
   "metadata": {},
   "source": [
    "## Log Data"
   ]
  },
  {
   "cell_type": "code",
   "execution_count": 23,
   "metadata": {},
   "outputs": [],
   "source": [
    "# def process_log_data(spark, input_data, output_data):\n",
    "# get filepath to log data file\n",
    "\n",
    "# log_data = input_data+'*.json'\n",
    "log_data = os.path.join(input_data, \"log_data/*/*/*.json\")\n",
    "\n",
    "# read log data file\n",
    "df = spark.read.json(log_data)"
   ]
  },
  {
   "cell_type": "code",
   "execution_count": 24,
   "metadata": {},
   "outputs": [],
   "source": [
    "# filter by actions for song plays\n",
    "df = df.where(df.page=='NextSong')"
   ]
  },
  {
   "cell_type": "code",
   "execution_count": 25,
   "metadata": {},
   "outputs": [],
   "source": [
    "# extract columns for users table    \n",
    "users_table = df.select(col('userId').alias('user_id'), col('firstName').alias('first_name'), \n",
    "                        col('lastName').alias('last_name'), 'gender', 'level')"
   ]
  },
  {
   "cell_type": "code",
   "execution_count": 21,
   "metadata": {},
   "outputs": [],
   "source": [
    "# write users table to parquet files\n",
    "users_table.write.parquet(output_data+'users', 'overwrite')"
   ]
  },
  {
   "cell_type": "code",
   "execution_count": 22,
   "metadata": {},
   "outputs": [],
   "source": [
    "# create timestamp column from original timestamp column\n",
    "# import pandas as pd\n",
    "# from pyspark.sql.types import TimestampType\n",
    "\n",
    "# get_timestamp = udf(lambda ts: pd.to_datetime(ts, unit='ms'), TimestampType())\n",
    "# df = df.withColumn('timestamp', get_timestamp(df.ts))\n",
    "\n",
    "get_timestamp = udf(lambda x: str(int(int(x) / 1000)))\n",
    "df = df.withColumn('timestamp', get_timestamp(df.ts))"
   ]
  },
  {
   "cell_type": "code",
   "execution_count": 23,
   "metadata": {},
   "outputs": [],
   "source": [
    "# create datetime column from original timestamp column\n",
    "# get_datetime = udf(lambda ts: pd.to_datetime(ts, unit='ms'), TimestampType())\n",
    "# df = df.withColumn('datetime', get_datetime(df.ts))\n",
    "\n",
    "get_datetime = udf(lambda x: str(datetime.fromtimestamp(int(x) / 1000.0)))\n",
    "df = df.withColumn('datetime', get_datetime(df.ts))"
   ]
  },
  {
   "cell_type": "code",
   "execution_count": 24,
   "metadata": {},
   "outputs": [],
   "source": [
    "# extract columns to create time table\n",
    "# time_table = df.select(date_format('timestamp', 'H:m:s').alias('start_time'), hour('datetime').alias('hour'), \n",
    "#           dayofmonth('datetime').alias('day'), weekofyear('datetime').alias('week'), month('datetime').alias('month'), \n",
    "#           year('datetime').alias('year'), date_format('datetime', 'u').alias('weekday'))\n",
    "\n",
    "time_table = df.select(\n",
    "    'timestamp',\n",
    "    hour('datetime').alias('hour'),\n",
    "    dayofmonth('datetime').alias('day'),\n",
    "    weekofyear('datetime').alias('week'),\n",
    "    month('datetime').alias('month'),\n",
    "    year('datetime').alias('year'),\n",
    "    date_format('datetime', 'u').alias('weekday')\n",
    "  )"
   ]
  },
  {
   "cell_type": "code",
   "execution_count": 25,
   "metadata": {},
   "outputs": [],
   "source": [
    "# write time table to parquet files partitioned by year and month\n",
    "time_table.write.partitionBy('year', 'month').parquet(output_data+'time', 'overwrite')"
   ]
  },
  {
   "cell_type": "code",
   "execution_count": 27,
   "metadata": {},
   "outputs": [],
   "source": [
    "# read in song data to use for songplays table\n",
    "song_df = spark.read.json(input_data+'song_data/*/*/*/*.json')\n"
   ]
  },
  {
   "cell_type": "code",
   "execution_count": 28,
   "metadata": {},
   "outputs": [],
   "source": [
    "# extract columns from joined song and log datasets to create songplays table \n",
    "songplays_table = df.join(song_df, (df.song == song_df.title) & \n",
    "                          (df.artist == song_df.artist_name) & (df.length == song_df.duration),\n",
    "                         'left_outer').select(\n",
    "                             df.timestamp,\n",
    "                             col('userId').alias('user_id'),\n",
    "                             df.level,\n",
    "                             song_df.song_id,\n",
    "                             song_df.artist_id,\n",
    "                             col('sessionId').alias('session_id'),\n",
    "                             df.location,\n",
    "                             col('userAgent').alias('user_agent'),\n",
    "                             year('datetime').alias('year'),\n",
    "                             month('datetime').alias('month')\n",
    "                         )"
   ]
  },
  {
   "cell_type": "code",
   "execution_count": 30,
   "metadata": {},
   "outputs": [],
   "source": [
    "# write songplays table to parquet files partitioned by year and month\n",
    "songplays_table.write.partitionBy('year', 'month').parquet(output_data+'songplays', 'overwrite')"
   ]
  },
  {
   "cell_type": "code",
   "execution_count": 44,
   "metadata": {},
   "outputs": [],
   "source": [
    "import boto3\n",
    "\n",
    "s3 = boto3.resource('s3',\n",
    "                        region_name='us-west-2',\n",
    "                        aws_access_key_id=os.environ['AWS_ACCESS_KEY_ID'],\n",
    "                        aws_secret_access_key=os.environ['AWS_SECRET_ACCESS_KEY']\n",
    "                       )"
   ]
  },
  {
   "cell_type": "code",
   "execution_count": 59,
   "metadata": {},
   "outputs": [],
   "source": [
    "udacity = s3.Bucket('udacity-dend')"
   ]
  },
  {
   "cell_type": "code",
   "execution_count": 72,
   "metadata": {},
   "outputs": [
    {
     "data": {
      "text/plain": [
       "[s3.ObjectSummary(bucket_name='udacity-dend', key='song_data/A/A/A/TRAAAAK128F9318786.json'),\n",
       " s3.ObjectSummary(bucket_name='udacity-dend', key='song_data/A/A/A/TRAAAAV128F421A322.json'),\n",
       " s3.ObjectSummary(bucket_name='udacity-dend', key='song_data/A/A/A/TRAAABD128F429CF47.json'),\n",
       " s3.ObjectSummary(bucket_name='udacity-dend', key='song_data/A/A/A/TRAAACN128F9355673.json'),\n",
       " s3.ObjectSummary(bucket_name='udacity-dend', key='song_data/A/A/A/TRAAAEA128F935A30D.json'),\n",
       " s3.ObjectSummary(bucket_name='udacity-dend', key='song_data/A/A/A/TRAAAED128E0783FAB.json'),\n",
       " s3.ObjectSummary(bucket_name='udacity-dend', key='song_data/A/A/A/TRAAAEM128F93347B9.json'),\n",
       " s3.ObjectSummary(bucket_name='udacity-dend', key='song_data/A/A/A/TRAAAEW128F42930C0.json'),\n",
       " s3.ObjectSummary(bucket_name='udacity-dend', key='song_data/A/A/A/TRAAAFD128F92F423A.json'),\n",
       " s3.ObjectSummary(bucket_name='udacity-dend', key='song_data/A/A/A/TRAAAGR128F425B14B.json'),\n",
       " s3.ObjectSummary(bucket_name='udacity-dend', key='song_data/A/A/A/TRAAAHD128F42635A5.json'),\n",
       " s3.ObjectSummary(bucket_name='udacity-dend', key='song_data/A/A/A/TRAAAHJ128F931194C.json'),\n",
       " s3.ObjectSummary(bucket_name='udacity-dend', key='song_data/A/A/A/TRAAAHZ128E0799171.json'),\n",
       " s3.ObjectSummary(bucket_name='udacity-dend', key='song_data/A/A/A/TRAAAIR128F1480971.json'),\n",
       " s3.ObjectSummary(bucket_name='udacity-dend', key='song_data/A/A/A/TRAAAJN128F428E437.json'),\n",
       " s3.ObjectSummary(bucket_name='udacity-dend', key='song_data/A/A/A/TRAAAND12903CD1F1B.json'),\n",
       " s3.ObjectSummary(bucket_name='udacity-dend', key='song_data/A/A/A/TRAAANK128F428B515.json'),\n",
       " s3.ObjectSummary(bucket_name='udacity-dend', key='song_data/A/A/A/TRAAAOF128F429C156.json'),\n",
       " s3.ObjectSummary(bucket_name='udacity-dend', key='song_data/A/A/A/TRAAAPK128E0786D96.json'),\n",
       " s3.ObjectSummary(bucket_name='udacity-dend', key='song_data/A/A/A/TRAAAQN128F9353BA0.json'),\n",
       " s3.ObjectSummary(bucket_name='udacity-dend', key='song_data/A/A/A/TRAAAQO12903CD8E1C.json'),\n",
       " s3.ObjectSummary(bucket_name='udacity-dend', key='song_data/A/A/A/TRAAAUC128F428716F.json'),\n",
       " s3.ObjectSummary(bucket_name='udacity-dend', key='song_data/A/A/A/TRAAAUR128F428B1FA.json'),\n",
       " s3.ObjectSummary(bucket_name='udacity-dend', key='song_data/A/A/A/TRAAAYL128F4271A5B.json')]"
      ]
     },
     "execution_count": 72,
     "metadata": {},
     "output_type": "execute_result"
    }
   ],
   "source": [
    "\n",
    "list(udacity.objects.filter(Prefix=\"song_data/A/A/A/\"))"
   ]
  },
  {
   "cell_type": "code",
   "execution_count": 4,
   "metadata": {},
   "outputs": [
    {
     "ename": "AttributeError",
     "evalue": "'SparkSession' object has no attribute 'close'",
     "output_type": "error",
     "traceback": [
      "\u001b[0;31m---------------------------------------------------------------------------\u001b[0m",
      "\u001b[0;31mAttributeError\u001b[0m                            Traceback (most recent call last)",
      "\u001b[0;32m<ipython-input-4-774709a97487>\u001b[0m in \u001b[0;36m<module>\u001b[0;34m()\u001b[0m\n\u001b[0;32m----> 1\u001b[0;31m \u001b[0mspark\u001b[0m\u001b[0;34m.\u001b[0m\u001b[0mclose\u001b[0m\u001b[0;34m(\u001b[0m\u001b[0;34m)\u001b[0m\u001b[0;34m\u001b[0m\u001b[0m\n\u001b[0m",
      "\u001b[0;31mAttributeError\u001b[0m: 'SparkSession' object has no attribute 'close'"
     ]
    }
   ],
   "source": [
    "spark.stop"
   ]
  }
 ],
 "metadata": {
  "kernelspec": {
   "display_name": "Python 3",
   "language": "python",
   "name": "python3"
  },
  "language_info": {
   "codemirror_mode": {
    "name": "ipython",
    "version": 3
   },
   "file_extension": ".py",
   "mimetype": "text/x-python",
   "name": "python",
   "nbconvert_exporter": "python",
   "pygments_lexer": "ipython3",
   "version": "3.6.3"
  }
 },
 "nbformat": 4,
 "nbformat_minor": 2
}
